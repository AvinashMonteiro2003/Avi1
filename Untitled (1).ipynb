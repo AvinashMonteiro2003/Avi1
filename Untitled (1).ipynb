{
 "cells": [
  {
   "cell_type": "markdown",
   "id": "ec76bed1-5ca1-41a9-a083-4aff28086f4b",
   "metadata": {
    "tags": []
   },
   "source": [
    "### "
   ]
  },
  {
   "cell_type": "code",
   "execution_count": 17,
   "id": "22a1d676-a877-4ba6-8421-d1adce69252e",
   "metadata": {},
   "outputs": [
    {
     "data": {
      "text/plain": [
       "'q1c Deep learning is a machine learning technique that teaches computers to do what comes naturally to humans: learn by example. Deep learning is a key technology behind driverless cars, enabling them to recognize a stop sign, or to distinguish a pedestrian from a lamppost.'"
      ]
     },
     "execution_count": 17,
     "metadata": {},
     "output_type": "execute_result"
    }
   ],
   "source": [
    "\"q1a Artificial intelligence is the simulation of human intelligence processes by machines specially computer systems\"\n",
    "\"q1b Supervised machine learning models are trained with labeled data sets, which allow the models to learn and grow more accurate over time. For example, an algorithm would be trained with pictures of dogs and other things, all labeled by humans, and the machine would learn ways to identify pictures of dogs on its own.\"\n",
    "\"q1c Deep learning is a machine learning technique that teaches computers to do what comes naturally to humans: learn by example. Deep learning is a key technology behind driverless cars, enabling them to recognize a stop sign, or to distinguish a pedestrian from a lamppost.\""
   ]
  },
  {
   "cell_type": "code",
   "execution_count": 18,
   "id": "b5984031-16f3-43a6-8250-d5da7a026a56",
   "metadata": {},
   "outputs": [
    {
     "data": {
      "text/plain": [
       "' q2 Supervised learning uses a training set to teach models to yield the desired output. This training dataset includes inputs and correct outputs, which allow the model to learn over time. decision tree, logistic regression, linear regression, support vector machine. '"
      ]
     },
     "execution_count": 18,
     "metadata": {},
     "output_type": "execute_result"
    }
   ],
   "source": [
    "\" q2 Supervised learning uses a training set to teach models to yield the desired output. This training dataset includes inputs and correct outputs, which allow the model to learn over time. decision tree, logistic regression, linear regression, support vector machine. \""
   ]
  },
  {
   "cell_type": "code",
   "execution_count": 19,
   "id": "19a3eedf-e125-4a18-a504-33f3519469dd",
   "metadata": {},
   "outputs": [
    {
     "data": {
      "text/plain": [
       "'q3 Unsupervised learning is when it can provide a set of unlabelled data, which it is required to analyze and find patterns inside. The examples are dimension reduction and clustering Anomaly detection Neural Networks.'"
      ]
     },
     "execution_count": 19,
     "metadata": {},
     "output_type": "execute_result"
    }
   ],
   "source": [
    "\"q3 Unsupervised learning is when it can provide a set of unlabelled data, which it is required to analyze and find patterns inside. The examples are dimension reduction and clustering Anomaly detection Neural Networks.\"\n"
   ]
  },
  {
   "cell_type": "code",
   "execution_count": 20,
   "id": "ea01650f-e87d-47e3-9c41-ef96f5e4d8f3",
   "metadata": {},
   "outputs": [
    {
     "data": {
      "text/plain": [
       "'q4 AI ML DL are not part or subset of DS, although, certain tasks involved in DS intersect with AI, ML and DL. DS is a data-driven technique and each of DS, ML and DL have processes that relate to data or big data, contextually. DS, ML, DL and AI need loads of data to begin with. Each of these processes the data in their own context and techniques and provide an outcome, which is then examined on human interests. A point to note is, DS, ML, DL and AI are iterative techniques that is, if the actual outcome has large variance with the expected result, the respective processes are repeated.'"
      ]
     },
     "execution_count": 20,
     "metadata": {},
     "output_type": "execute_result"
    }
   ],
   "source": [
    "\"q4 AI ML DL are not part or subset of DS, although, certain tasks involved in DS intersect with AI, ML and DL. DS is a data-driven technique and each of DS, ML and DL have processes that relate to data or big data, contextually. DS, ML, DL and AI need loads of data to begin with. Each of these processes the data in their own context and techniques and provide an outcome, which is then examined on human interests. A point to note is, DS, ML, DL and AI are iterative techniques that is, if the actual outcome has large variance with the expected result, the respective processes are repeated.\""
   ]
  },
  {
   "cell_type": "code",
   "execution_count": 21,
   "id": "2773381c-08d2-4609-a08d-8e05fafcffcd",
   "metadata": {},
   "outputs": [
    {
     "data": {
      "text/plain": [
       "'q5 The main difference between these types is the level of availability of ground truth data, which is prior knowledge of what the output of the model should be for a given inputSupervised learning aims to learn a function that, given a sample of data and desired outputs, approximates a function that maps inputs to outputSemi-supervised learning aims to label unlabeled data points using knowledge learned from a small number of labeled data pointsUnsupervised learning does not have (or need) any labeled outputs, so its goal is to infer the natural structure present within a set of data points.'"
      ]
     },
     "execution_count": 21,
     "metadata": {},
     "output_type": "execute_result"
    }
   ],
   "source": [
    "\"q5 The main difference between these types is the level of availability of ground truth data, which is prior knowledge of what the output of the model should be for a given inputSupervised learning aims to learn a function that, given a sample of data and desired outputs, approximates a function that maps inputs to outputSemi-supervised learning aims to label unlabeled data points using knowledge learned from a small number of labeled data pointsUnsupervised learning does not have (or need) any labeled outputs, so its goal is to infer the natural structure present within a set of data points.\""
   ]
  },
  {
   "cell_type": "code",
   "execution_count": 22,
   "id": "b9c1d9f3-f4d0-4f99-bb4d-8062cf0c3a54",
   "metadata": {},
   "outputs": [
    {
     "data": {
      "text/plain": [
       "\"q6 The original data in a machine learning model is typically taken and split into three or four sets. The three sets commonly used are the training set, the dev set and the testing set:The training set is the portion of data used to train the model. The model should observe and learn from the training set, optimizing any of its parametersThe dev set is a data set of examples used to change learning process parameters. It is also called the cross-validation or model validation set. This set of data has the goal of ranking the model's accuracy and can help with model selection.The testing set is the portion of data that is tested in the final model and is compared against the previous sets of data. The testing set acts as an evaluation of the final mode and algorithm.\""
      ]
     },
     "execution_count": 22,
     "metadata": {},
     "output_type": "execute_result"
    }
   ],
   "source": [
    "\"q6 The original data in a machine learning model is typically taken and split into three or four sets. The three sets commonly used are the training set, the dev set and the testing set:The training set is the portion of data used to train the model. The model should observe and learn from the training set, optimizing any of its parametersThe dev set is a data set of examples used to change learning process parameters. It is also called the cross-validation or model validation set. This set of data has the goal of ranking the model's accuracy and can help with model selection.The testing set is the portion of data that is tested in the final model and is compared against the previous sets of data. The testing set acts as an evaluation of the final mode and algorithm.\""
   ]
  },
  {
   "cell_type": "code",
   "execution_count": 23,
   "id": "f61a1466-3c84-4f6d-b9ec-b089d3ef45c9",
   "metadata": {},
   "outputs": [
    {
     "data": {
      "text/plain": [
       "'q7 Unsupervised Anomaly Detection is the most flexible setup which does not require any labels. Furthermore, there is also no distinction between a training and a test dataset. The idea is that an unsupervised anomaly detection algorithm scores the data solely based on intrinsic properties of the datase So when it comes to anomaly detection, kNN works as an unsupervised learning algorithm. A machine learning expert defines a range of normal and abnormal values manually, and the algorithm breaks this representation into classes by itself.'"
      ]
     },
     "execution_count": 23,
     "metadata": {},
     "output_type": "execute_result"
    }
   ],
   "source": [
    "\"q7 Unsupervised Anomaly Detection is the most flexible setup which does not require any labels. Furthermore, there is also no distinction between a training and a test dataset. The idea is that an unsupervised anomaly detection algorithm scores the data solely based on intrinsic properties of the datase So when it comes to anomaly detection, kNN works as an unsupervised learning algorithm. A machine learning expert defines a range of normal and abnormal values manually, and the algorithm breaks this representation into classes by itself.\""
   ]
  },
  {
   "cell_type": "code",
   "execution_count": 24,
   "id": "4a91c769-5b4b-42c6-88e6-c96608623515",
   "metadata": {},
   "outputs": [
    {
     "data": {
      "text/plain": [
       "'for unsupervised it is K-means clusteringKNN (k-nearest neighborsHierarchal clustering.Anomaly detection.Neural Networks.Principle Component Analysis.Independent Component Analysis.Apriori algorithm.'"
      ]
     },
     "execution_count": 24,
     "metadata": {},
     "output_type": "execute_result"
    }
   ],
   "source": [
    "\" q8 Decision Tree algorithm in machine learning is one of the most popular algorithm in use today; this is a supervised learning algorithm that is used for classifying problems. It works well in classifying both categorical and continuous dependent variables.The most commonly used Supervised Learning algorithms are decision tree, logistic regression, linear regression, support vector machine. The most commonly used Unsupervised Learning algorithms are k-means clustering, hierarchical clustering, and apriori algorithm.  \"\n",
    "\"for unsupervised it is K-means clusteringKNN (k-nearest neighborsHierarchal clustering.Anomaly detection.Neural Networks.Principle Component Analysis.Independent Component Analysis.Apriori algorithm.\""
   ]
  },
  {
   "cell_type": "code",
   "execution_count": null,
   "id": "f25c34d5-2ec8-4e07-b903-14c0f98019f9",
   "metadata": {},
   "outputs": [],
   "source": []
  }
 ],
 "metadata": {
  "kernelspec": {
   "display_name": "Python 3 (ipykernel)",
   "language": "python",
   "name": "python3"
  },
  "language_info": {
   "codemirror_mode": {
    "name": "ipython",
    "version": 3
   },
   "file_extension": ".py",
   "mimetype": "text/x-python",
   "name": "python",
   "nbconvert_exporter": "python",
   "pygments_lexer": "ipython3",
   "version": "3.10.8"
  }
 },
 "nbformat": 4,
 "nbformat_minor": 5
}
